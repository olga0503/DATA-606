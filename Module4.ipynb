{
 "cells": [
  {
   "cell_type": "markdown",
   "metadata": {},
   "source": [
    "# Module 4"
   ]
  },
  {
   "cell_type": "markdown",
   "metadata": {},
   "source": [
    "Build a dash app for a arborist studying the health of various tree species (as defined by the variable ‘spc_common’) across each borough (defined by the variable ‘borough’). This\n",
    "arborist would like to answer the following two questions for each species and in each borough."
   ]
  },
  {
   "cell_type": "markdown",
   "metadata": {},
   "source": [
    "#### Question #1\n",
    "What proportion of trees are in good, fair, or poor health according to the ‘health’\n",
    "variable?"
   ]
  },
  {
   "cell_type": "code",
   "execution_count": null,
   "metadata": {},
   "outputs": [],
   "source": [
    "Link to app.py: "
   ]
  },
  {
   "cell_type": "code",
   "execution_count": null,
   "metadata": {},
   "outputs": [],
   "source": [
    "import dash\n",
    "import dash_core_components as dcc\n",
    "import dash_html_components as html\n",
    "import pandas as pd\n",
    "import numpy as np\n",
    "import pandas as pd\n",
    "import numpy as np\n",
    "import json\n",
    "import colorlover as cl\n",
    "import plotly.offline as py\n",
    "import plotly.graph_objs as go\n",
    "from plotly import tools\n",
    "import dash\n",
    "import dash_core_components as dcc\n",
    "import dash_html_components as html\n",
    "\n",
    "url = 'https://data.cityofnewyork.us/resource/nwxe-4ae8.json'\n",
    "trees = pd.read_json(url)\n",
    "trees_q1 = trees[['spc_common','health','boroname']]\n",
    "trees_q1['spc_common'].fillna('Unknown',inplace = True)\n",
    "trees_q1.dropna(inplace = True)\n",
    "\n",
    "#identify different health conditions\n",
    "statuses = list(set(trees_q1['health']))\n",
    "print(statuses)\n",
    "\n",
    "colors = ['rgb(49,130,189)','rgb(204,204,204)','rgba(222,45,38,0.8)']\n",
    "\n",
    "\n",
    "#create columns that specify tree health conditions\n",
    "for status in set(trees_q1['health']):\n",
    "    trees_q1[status] = np.where(trees_q1['health']==status,1,0)\n",
    "    \n",
    "trees_q1 = pd.DataFrame(trees_q1.groupby(['boroname','spc_common']).sum())\n",
    "trees_q1.head()\n",
    "\n",
    "#find out boroughs\n",
    "boroughs = list(set(trees['boroname']))\n",
    "\n",
    "trees_q1['total'] = trees_q1.sum(axis=1)\n",
    "for column in list(trees_q1.columns):\n",
    "    trees_q1[column] = (trees_q1[column]/trees_q1['total'])*100\n",
    "trees_q1.head()\n",
    "\n",
    "\n",
    "#create list to store data for each borough\n",
    "trace_list=[]\n",
    "\n",
    "#create plot titles\n",
    "borough_list = list(map(lambda x: str(x), boroughs))\n",
    "\n",
    "#select number of columns\n",
    "cols=3\n",
    "#calculate number of rows\n",
    "rows=3\n",
    "fig = tools.make_subplots(rows=rows, cols=cols, subplot_titles=tuple(borough_list))\n",
    "\n",
    "#iterate through boroughs\n",
    "for borough in boroughs:\n",
    "        for i in range(0,len(statuses)):\n",
    "            trace = go.Bar(\n",
    "            x = list(trees_q1.loc[borough].index),\n",
    "            y = list(trees_q1.loc[borough][statuses[i]]),\n",
    "            name = statuses[i],\n",
    "            marker=dict(color=colors[i])\n",
    "            )\n",
    "            trace_list += [trace]\n",
    "\n",
    "\n",
    "\n",
    "row_i = []\n",
    "col_j = []\n",
    "for i in range(1,rows+1):\n",
    "    for j in range (1,cols+1):\n",
    "        for n in range (1,4):\n",
    "            row_i.append(i)\n",
    "            col_j.append(j)\n",
    "\n",
    "for i in range(0,len(trace_list)):        \n",
    "     fig.append_trace(trace_list[i], row_i[i],col_j[i]) \n",
    " \n",
    "        \n",
    "fig['layout'].update(showlegend=False,height=1000, width=900, title='Proportion of Trees in Good, Fair and Poor Conditions', barmode='stack')\n",
    "\n",
    "\n",
    "app = dash.Dash()\n",
    "\n",
    "colors = {\n",
    "    'background': '#ffffff',\n",
    "    'text': 'black'\n",
    "}\n",
    "\n",
    "app.layout = html.Div(style={'backgroundColor': colors['background']}, children=[\n",
    "    html.H1(\n",
    "        children='Question #1',\n",
    "        style={\n",
    "            'textAlign': 'center',\n",
    "            'color': colors['text']\n",
    "        }\n",
    "    ),\n",
    "    html.Div(children='Proportion of trees in Good, Fair and Poor conditions', style={\n",
    "        'textAlign': 'center',\n",
    "        'color': colors['text']\n",
    "    }),\n",
    "\n",
    "       \n",
    "    html.Div([\n",
    "        dcc.Graph(figure=fig, id='my-figure')])\n",
    "    ])\n",
    "\n",
    "\n",
    "\n",
    "\n",
    "if __name__ == '__main__':\n",
    "    app.run_server(debug=True)"
   ]
  },
  {
   "cell_type": "markdown",
   "metadata": {},
   "source": [
    "<img src=\"q1.png\"></img>"
   ]
  },
  {
   "cell_type": "markdown",
   "metadata": {},
   "source": [
    "#### Question #2\n",
    "Are stewards (steward activity measured by the ‘steward’ variable) having an impact\n",
    "on the health of trees?"
   ]
  },
  {
   "cell_type": "code",
   "execution_count": null,
   "metadata": {},
   "outputs": [],
   "source": []
  }
 ],
 "metadata": {
  "kernelspec": {
   "display_name": "Python 3",
   "language": "python",
   "name": "python3"
  },
  "language_info": {
   "codemirror_mode": {
    "name": "ipython",
    "version": 3
   },
   "file_extension": ".py",
   "mimetype": "text/x-python",
   "name": "python",
   "nbconvert_exporter": "python",
   "pygments_lexer": "ipython3",
   "version": "3.6.5"
  }
 },
 "nbformat": 4,
 "nbformat_minor": 2
}
