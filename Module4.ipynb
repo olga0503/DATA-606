{
 "cells": [
  {
   "cell_type": "code",
   "execution_count": 21,
   "metadata": {},
   "outputs": [],
   "source": [
    "import dash\n",
    "import dash_core_components as dcc\n",
    "import dash_html_components as html\n",
    "import pandas as pd\n",
    "import numpy as np\n",
    "\n",
    "url = 'https://data.cityofnewyork.us/resource/nwxe-4ae8.json'\n",
    "trees = pd.read_json(url)\n",
    "trees1= trees[['health','address']]\n",
    "trees1.dropna(inplace=True)\n",
    "\n",
    "app = dash.Dash()\n",
    "\n",
    "colors = {\n",
    "    'background': '#111111',\n",
    "    'text': '#7FDBFF'\n",
    "}\n",
    "app.layout = html.Div(style={'backgroundColor': colors['background']}, children=[\n",
    "    html.H1(\n",
    "        children='Question #1',\n",
    "        style={\n",
    "            'textAlign': 'center',\n",
    "            'color': colors['text']\n",
    "        }\n",
    "    ),\n",
    "    html.Div(children='Proportion of trees in Good, Fair and Poor conditions', style={\n",
    "        'textAlign': 'center',\n",
    "        'color': colors['text']\n",
    "    }),\n",
    "    dcc.Graph(\n",
    "        id='Graph1',\n",
    "        figure={\n",
    "            'data': [\n",
    "                {'x': ['Good', 'Fair', 'Poor'], 'y': [trees1[trees1['health']=='Good'].shape[0]/trees1.shape[0]*100, trees1[trees1['health']=='Fair'].shape[0]/trees1.shape[0]*100, trees1[trees1['health']=='Poor'].shape[0]/trees1.shape[0]*100], 'type': 'bar'}\n",
    "            ],\n",
    "            'layout': {\n",
    "                'plot_bgcolor': colors['background'],\n",
    "                'paper_bgcolor': colors['background'],\n",
    "                'font': {\n",
    "                    'color': colors['text']\n",
    "                }\n",
    "            }\n",
    "        }\n",
    "    )\n",
    "])\n",
    "\n",
    "if __name__ == '__main__':\n",
    "    app.run_server(debug=True)"
   ]
  }
 ],
 "metadata": {
  "kernelspec": {
   "display_name": "Python 3",
   "language": "python",
   "name": "python3"
  },
  "language_info": {
   "codemirror_mode": {
    "name": "ipython",
    "version": 3
   },
   "file_extension": ".py",
   "mimetype": "text/x-python",
   "name": "python",
   "nbconvert_exporter": "python",
   "pygments_lexer": "ipython3",
   "version": "3.6.5"
  }
 },
 "nbformat": 4,
 "nbformat_minor": 2
}
