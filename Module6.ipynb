{
 "cells": [
  {
   "cell_type": "markdown",
   "metadata": {},
   "source": [
    "# Module 6"
   ]
  },
  {
   "cell_type": "markdown",
   "metadata": {},
   "source": [
    "LInk to github pages: https://olga0503.github.io/"
   ]
  },
  {
   "cell_type": "markdown",
   "metadata": {},
   "source": [
    "#### Create a function to reverse any word that you type in. This can be typed into either an input box or an alert box, and then print the result in a box or on the webpage."
   ]
  },
  {
   "cell_type": "code",
   "execution_count": null,
   "metadata": {},
   "outputs": [],
   "source": [
    "<!doctype html>\n",
    "<html lang=\"en\">\n",
    "<head>\n",
    "  <meta charset=\"utf-8\">\n",
    "  <title>val demo</title>\n",
    "  <style>\n",
    "  p {\n",
    "    color: blue;\n",
    "    margin: 8px;\n",
    "  }\n",
    "  </style>\n",
    "  <script src=\"https://code.jquery.com/jquery-1.10.2.js\"></script>\n",
    "</head>\n",
    "<body>\n",
    " \n",
    "\n",
    "<textarea></textarea>\n",
    " \n",
    "<script>\n",
    "String.prototype.reverse = function() {\n",
    "    var str = this,\n",
    "        newString = new String();\n",
    "    for (n = str.length; n >= 0; n--) {\n",
    "        newString += str.charAt(n);\n",
    "    }\n",
    "    return newString;\n",
    "}\n",
    "    $(\"textarea\").change(function(){\n",
    "  alert($(\"textarea\").val().reverse());\n",
    "    });\n",
    "</script>\n",
    " \n",
    "</body>\n",
    "</html>"
   ]
  }
 ],
 "metadata": {
  "kernelspec": {
   "display_name": "Python 3",
   "language": "python",
   "name": "python3"
  },
  "language_info": {
   "codemirror_mode": {
    "name": "ipython",
    "version": 3
   },
   "file_extension": ".py",
   "mimetype": "text/x-python",
   "name": "python",
   "nbconvert_exporter": "python",
   "pygments_lexer": "ipython3",
   "version": "3.6.5"
  }
 },
 "nbformat": 4,
 "nbformat_minor": 2
}
