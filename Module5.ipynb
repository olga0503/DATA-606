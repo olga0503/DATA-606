{
 "cells": [
  {
   "cell_type": "markdown",
   "metadata": {},
   "source": [
    "## Module 5"
   ]
  },
  {
   "cell_type": "markdown",
   "metadata": {},
   "source": [
    "The goal of the assignment is to create a rest API that returns something from the tree census.\n",
    "Sample Flask API should\n",
    "1. Display \"Hello, World!\" on the home page\n",
    "2. Return complex json return values based on the provided url\n",
    "\n",
    "Link to module5.py: https://github.com/olga0503/DATA-608/blob/master/module5.py"
   ]
  },
  {
   "cell_type": "code",
   "execution_count": null,
   "metadata": {},
   "outputs": [],
   "source": [
    "#!flask/bin/python\n",
    "from flask import Flask, jsonify\n",
    "import requests\n",
    "\n",
    "app = Flask(__name__)\n",
    "\n",
    "#shows \"Hello, World!\" on the home page\n",
    "@app.route('/')\n",
    "def index():\n",
    "    return \"Hello, World!\"\n",
    "\n",
    "\n",
    "#returns tree Census data in json format on /module5 webpage\n",
    "@app.route('/module5', methods=['GET'])\n",
    "def get_tasks():\n",
    "     uri = \"https://data.cityofnewyork.us/resource/uvpi-gqnh.json\"\n",
    "     uResponse = requests.get(uri)\n",
    "     Jresponse = uResponse.text\n",
    "     return jsonify(Jresponse)\n",
    "\n",
    "if __name__ == '__main__':\n",
    "    app.run(debug=True)"
   ]
  },
  {
   "cell_type": "markdown",
   "metadata": {},
   "source": [
    "See the home page below:\n",
    "\n",
    "<img src=\"homepage.png\" style=\"float:left;\"></img>    \n"
   ]
  },
  {
   "cell_type": "markdown",
   "metadata": {},
   "source": [
    "    \n",
    "See /module5 page below: \n",
    "\n",
    "<img src=\"module5.png\"></img> "
   ]
  }
 ],
 "metadata": {
  "kernelspec": {
   "display_name": "Python 3",
   "language": "python",
   "name": "python3"
  },
  "language_info": {
   "codemirror_mode": {
    "name": "ipython",
    "version": 3
   },
   "file_extension": ".py",
   "mimetype": "text/x-python",
   "name": "python",
   "nbconvert_exporter": "python",
   "pygments_lexer": "ipython3",
   "version": "3.6.5"
  }
 },
 "nbformat": 4,
 "nbformat_minor": 2
}
